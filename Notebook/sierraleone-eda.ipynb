{
 "cells": [
  {
   "cell_type": "markdown",
   "id": "680373a1",
   "metadata": {},
   "source": [
    "1. Loading dependencies."
   ]
  },
  {
   "cell_type": "code",
   "execution_count": null,
   "id": "9c082e75",
   "metadata": {},
   "outputs": [],
   "source": [
    "import pandas as pd\n",
    "import numpy as np\n",
    "import matplotlib.pyplot as plt\n",
    "import seaborn as sns\n",
    "from scipy import stats\n",
    "import os\n",
    "import sys\n",
    "from windrose import WindroseAxes"
   ]
  },
  {
   "cell_type": "markdown",
   "id": "96a9984c",
   "metadata": {},
   "source": [
    "2. Summary Statistics & Missing-Value Report"
   ]
  },
  {
   "cell_type": "code",
   "execution_count": null,
   "id": "3cf9cab4",
   "metadata": {},
   "outputs": [],
   "source": [
    "df = pd.read_csv('..\\\\data\\\\sierraleone-bumbuna.csv', parse_dates=['Timestamp'])  # add parse_dates parameter\n",
    "# 1. Summary statistics for all numeric columns\n",
    "numeric_summary = df.describe()\n",
    "\n",
    "# 2. Count of missing values in each column\n",
    "missing_counts = df.isna().sum()\n",
    "\n",
    "# 3. Identifying columns with >5% missing values\n",
    "threshold = 0.05 * len(df)\n",
    "high_na_columns = missing_counts[missing_counts > threshold].index.tolist()\n",
    "\n",
    "# Printing the results\n",
    "print(\"Summary Statistics (Numeric Columns):\\n\", numeric_summary)\n",
    "print(\"\\nMissing Value Counts:\\n\", missing_counts)\n",
    "print(\"\\nColumns with >5% Missing Values:\\n\", high_na_columns)"
   ]
  },
  {
   "cell_type": "markdown",
   "id": "23a85c3f",
   "metadata": {},
   "source": [
    "3. missing values"
   ]
  },
  {
   "cell_type": "code",
   "execution_count": null,
   "id": "b52a6393",
   "metadata": {},
   "outputs": [],
   "source": [
    "# Checking for missing values in key columns\n",
    "key_columns = ['GHI', 'DNI', 'DHI', 'ModA', 'ModB', 'WS', 'WSgust']\n",
    "missing_counts = df[key_columns].isna().sum()\n",
    "print(\"Missing Values:\\n\", missing_counts)\n"
   ]
  },
  {
   "cell_type": "markdown",
   "id": "c83b2d7e",
   "metadata": {},
   "source": [
    "4. Incorrect entries Solar Irradiance (GHI, DNI, DHI)"
   ]
  },
  {
   "cell_type": "code",
   "execution_count": null,
   "id": "979302b8",
   "metadata": {},
   "outputs": [],
   "source": [
    "# Negative values (physically impossible)\n",
    "invalid_ghi = df[df['GHI'] < 0]\n",
    "invalid_dni = df[df['DNI'] < 0]\n",
    "invalid_dhi = df[df['DHI'] < 0]\n",
    "\n",
    "# Unrealistically high values (adjust thresholds)\n",
    "high_ghi = df[df['GHI'] > 1200]  # Max ~1200 W/m²\n",
    "high_dni = df[df['DNI'] > 1300]   # Max ~1300 W/m²\n",
    "high_dhi = df[df['DHI'] > 400]    # Max ~400 W/m²\n",
    "\n",
    "print(\"Invalid GHI values:\\n\", invalid_ghi)\n",
    "print(\"Invalid DNI values:\\n\", invalid_dni)\n",
    "print(\"Invalid DHI values:\\n\", invalid_dhi)\n",
    "print(\"High GHI values:\\n\", high_ghi)\n",
    "print(\"High DNI values:\\n\", high_dni)\n",
    "print(\"High DHI values:\\n\", high_dhi)"
   ]
  },
  {
   "cell_type": "markdown",
   "id": "0064b9d0",
   "metadata": {},
   "source": [
    "5. Incorrect entries Sensor Readings (ModA, ModB)"
   ]
  },
  {
   "cell_type": "code",
   "execution_count": null,
   "id": "1accfb09",
   "metadata": {},
   "outputs": [],
   "source": [
    "# Negative or stuck values\n",
    "invalid_moda = df[(df['ModA'] < 0) | (df['ModA'] > 1000)]  # Adjust max threshold\n",
    "stuck_moda = df['ModA'].nunique() == 1  # No variation → sensor failure?\n",
    "\n",
    "# Compare ModA vs. ModB for consistency\n",
    "discrepancy = df[abs(df['ModA'] - df['ModB']) > 100]  # Large differences"
   ]
  },
  {
   "cell_type": "markdown",
   "id": "9f0c242b",
   "metadata": {},
   "source": [
    "6. Incorrect entries Wind Speed (WS, WSgust)"
   ]
  },
  {
   "cell_type": "code",
   "execution_count": null,
   "id": "45a59367",
   "metadata": {},
   "outputs": [],
   "source": [
    "# Negative or illogical values (gust < avg speed)\n",
    "invalid_ws = df[df['WS'] < 0]\n",
    "gust_errors = df[df['WSgust'] < df['WS']]  # Gust must be ≥ WS\n"
   ]
  },
  {
   "cell_type": "markdown",
   "id": "a68a9148",
   "metadata": {},
   "source": [
    "7. Fixing Values"
   ]
  },
  {
   "cell_type": "code",
   "execution_count": null,
   "id": "6f74785b",
   "metadata": {},
   "outputs": [],
   "source": [
    "valid_rows = df[\n",
    "    # Solar Irradiance: All conditions must hold\n",
    "    (df[\"GHI\"] > 0) & (df[\"GHI\"] < 1200) &\n",
    "    (df[\"DNI\"] > 0) & (df[\"DNI\"] < 1300) &\n",
    "    (df[\"DHI\"] > 0) & (df[\"DHI\"] < 400) &\n",
    "    \n",
    "    # Wind Speed: All conditions must hold\n",
    "    (df[\"WS\"] > 0) &\n",
    "    (df[\"WSgust\"] > 0) &\n",
    "    (df[\"WSgust\"] > df[\"WS\"])\n",
    "]\n",
    "\n",
    "invalid_rows = df[~df.index.isin(valid_rows.index)]\n",
    "# Print the number of valid and invalid rows   \n",
    "print(f\"Invalid rows: {len(invalid_rows)}\")\n",
    "\n",
    "#df = valid_rows.copy()\n"
   ]
  },
  {
   "cell_type": "markdown",
   "id": "cf83ff5f",
   "metadata": {},
   "source": [
    "8. Outlier Detectiong"
   ]
  },
  {
   "cell_type": "code",
   "execution_count": null,
   "id": "6f00ac8a",
   "metadata": {},
   "outputs": [],
   "source": [
    "# Compute Z-scores for the selected columns\n",
    "z_scores = df[key_columns].apply(stats.zscore)\n",
    "\n",
    "# Identify rows with |Z| > 3\n",
    "outlier_mask = (np.abs(z_scores) > 3).any(axis=1)\n",
    "outlier_count = outlier_mask.sum()\n",
    "print(f\"\\nTotal Outlier Rows: {outlier_count}\")\n",
    "\n",
    "# Drop outliers\n",
    "df_cleaned = df[~outlier_mask].copy()"
   ]
  },
  {
   "cell_type": "markdown",
   "id": "18a9a84c",
   "metadata": {},
   "source": [
    "9. Drop or impute (median) missing values in key columns"
   ]
  },
  {
   "cell_type": "code",
   "execution_count": null,
   "id": "ef2276c3",
   "metadata": {},
   "outputs": [],
   "source": [
    "# Fill missing values with median\n",
    "df_cleaned[key_columns] = df_cleaned[key_columns].fillna(df_cleaned[key_columns].median())\n",
    "\n",
    "# Verify if all missing values are handled\n",
    "print(\"\\nRemaining Missing Values:\\n\", df_cleaned[key_columns].isna().sum())"
   ]
  },
  {
   "cell_type": "markdown",
   "id": "ad1b07e9",
   "metadata": {},
   "source": [
    "10. Export cleaned DataFrame"
   ]
  },
  {
   "cell_type": "code",
   "execution_count": null,
   "id": "5476534b",
   "metadata": {},
   "outputs": [],
   "source": [
    "output_path = f\"..\\\\data\\\\sierraleone_clean.csv\"\n",
    "\n",
    "# Ensure 'data/' directory exists\n",
    "os.makedirs('..\\\\data', exist_ok=True)\n",
    "\n",
    "# Export cleaned data\n",
    "df_cleaned.to_csv(output_path, index=False)\n",
    "print(f\"\\nCleaned data exported to: {output_path}\")"
   ]
  },
  {
   "cell_type": "markdown",
   "id": "1e0c2de1",
   "metadata": {},
   "source": [
    "11. Time Series Analysis"
   ]
  },
  {
   "cell_type": "code",
   "execution_count": null,
   "id": "e7285e00",
   "metadata": {},
   "outputs": [],
   "source": [
    "# Convert Timestamp to datetime and set as index\n",
    "\n",
    "df['Timestamp'] = pd.to_datetime(df['Timestamp'])\n",
    "df.set_index('Timestamp', inplace=True)\n",
    "\n",
    "# Plot GHI, DNI, DHI, Tamb in subplots\n",
    "fig, axes = plt.subplots(4, 1, figsize=(14, 12), sharex=True)\n",
    "\n",
    "# Solar Irradiance\n",
    "df['GHI'].plot(ax=axes[0], color='blue', title='GHI (W/m²)')\n",
    "df['DNI'].plot(ax=axes[1], color='orange', title='DNI (W/m²)')\n",
    "df['DHI'].plot(ax=axes[2], color='green', title='DHI (W/m²)')\n",
    "\n",
    "# Ambient Temperature\n",
    "df['Tamb'].plot(ax=axes[3], color='red', title='Tamb (°C)')\n",
    "\n",
    "plt.tight_layout()\n",
    "plt.show()"
   ]
  },
  {
   "cell_type": "code",
   "execution_count": null,
   "id": "46f6929d",
   "metadata": {},
   "outputs": [],
   "source": [
    "df = pd.read_csv('..\\\\data\\\\sierraleone-bumbuna.csv', parse_dates=['Timestamp'])  # add parse_dates parameter\n",
    "# Convert 'Timestamp' to datetime\n",
    "df['Timestamp'] = pd.to_datetime(df['Timestamp'])\n",
    "\n",
    "# Optionally set as index for easier plotting\n",
    "df.set_index('Timestamp', inplace=True)\n",
    "\n",
    "plt.figure(figsize=(14, 10))\n",
    "\n",
    "# Plot each variable\n",
    "plt.plot(df.index, df['GHI'], label='GHI')\n",
    "plt.plot(df.index, df['DNI'], label='DNI')\n",
    "plt.plot(df.index, df['DHI'], label='DHI')\n",
    "plt.plot(df.index, df['Tamb'], label='Tamb')\n",
    "\n",
    "plt.xlabel('Timestamp')\n",
    "plt.ylabel('Values')\n",
    "plt.title('Solar Irradiance & Ambient Temperature Over Time')\n",
    "#plt.legend()\n",
    "plt.show()"
   ]
  },
  {
   "cell_type": "code",
   "execution_count": null,
   "id": "a5f32b44",
   "metadata": {},
   "outputs": [],
   "source": [
    "# Monthly average values\n",
    "monthly_avg = df.resample('M').mean()\n",
    "\n",
    "monthly_avg[['GHI', 'DNI', 'DHI', 'Tamb']].plot(kind='bar', figsize=(14, 8))\n",
    "plt.title('Monthly Average Solar Irradiance & Temperature')\n",
    "plt.ylabel('Average Value')\n",
    "plt.show()\n"
   ]
  },
  {
   "cell_type": "code",
   "execution_count": null,
   "id": "3d2dceb3",
   "metadata": {},
   "outputs": [],
   "source": [
    "# Hourly average (aggregated across all days)\n",
    "hourly_avg = df.groupby(df.index.hour).mean()\n",
    "\n",
    "hourly_avg[['GHI', 'DNI', 'DHI', 'Tamb']].plot(kind='bar', figsize=(14, 8))\n",
    "plt.title('Average Hourly Solar Irradiance & Temperature')\n",
    "plt.xlabel('Hour of Day')\n",
    "plt.ylabel('Average Value')\n",
    "plt.show()"
   ]
  },
  {
   "cell_type": "code",
   "execution_count": null,
   "id": "1488c878",
   "metadata": {},
   "outputs": [],
   "source": [
    "\n",
    "# 1. Group by Cleaning flag and calculate means\n",
    "cleaning_groups = df.groupby('Cleaning')[['ModA', 'ModB']].mean()\n",
    "\n",
    "# 2. Plot the results\n",
    "plt.figure(figsize=(10, 6))\n",
    "\n",
    "# Bar positions\n",
    "x = [0, 1]  # 0=Before cleaning (0), 1=After cleaning (1)\n",
    "width = 0.35\n",
    "\n",
    "# Plot ModA and ModB bars side by side\n",
    "bars_moda = plt.bar([pos - width/2 for pos in x], \n",
    "                   cleaning_groups['ModA'], \n",
    "                   width, label='ModA', color='skyblue')\n",
    "bars_modb = plt.bar([pos + width/2 for pos in x], \n",
    "                   cleaning_groups['ModB'], \n",
    "                   width, label='ModB', color='orange')\n",
    "\n",
    "# Customize plot\n",
    "plt.xticks(x, ['Before Cleaning (0)', 'After Cleaning (1)'])\n",
    "plt.ylabel('Average Irradiance (W/m²)')\n",
    "plt.title('Average ModA & ModB Performance: Pre vs. Post Cleaning')\n",
    "plt.legend()\n",
    "\n",
    "# Add value labels on top of bars\n",
    "for bars in [bars_moda, bars_modb]:\n",
    "    for bar in bars:\n",
    "        height = bar.get_height()\n",
    "        plt.text(bar.get_x() + bar.get_width()/2., height,\n",
    "                f'{height:.1f}',\n",
    "                ha='center', va='bottom')\n",
    "\n",
    "plt.grid(True, alpha=0.5)\n",
    "plt.tight_layout()\n",
    "plt.show()\n",
    "# 3. Calculate total cleaning done\n",
    "cleaning = df[df['Cleaning'] == 1].sum()\n",
    "print(f\"Total cleaning done:\\n {cleaning}\")"
   ]
  },
  {
   "cell_type": "code",
   "execution_count": null,
   "id": "641c3f8c",
   "metadata": {},
   "outputs": [],
   "source": [
    "# Select columns of interest\n",
    "corr_columns = ['GHI', 'DNI', 'DHI', 'TModA', 'TModB']\n",
    "corr_matrix = df[corr_columns].corr()\n",
    "\n",
    "# Plot heatmap\n",
    "plt.figure(figsize=(8, 6))\n",
    "sns.heatmap(corr_matrix, annot=True, cmap='coolwarm', fmt=\".2f\")\n",
    "plt.title('Correlation Heatmap: Solar Irradiance & Module Temperatures')\n",
    "plt.show()"
   ]
  },
  {
   "cell_type": "code",
   "execution_count": null,
   "id": "c422e877",
   "metadata": {},
   "outputs": [],
   "source": [
    "fig, axs = plt.subplots(1, 3, figsize=(18, 5))\n",
    "\n",
    "sns.scatterplot(data=df, x='WS', y='GHI', ax=axs[0])\n",
    "axs[0].set_title('WS vs GHI')\n",
    "\n",
    "sns.scatterplot(data=df, x='WSgust', y='GHI', ax=axs[1])\n",
    "axs[1].set_title('WSgust vs GHI')\n",
    "\n",
    "sns.scatterplot(data=df, x='WD', y='GHI', ax=axs[2])\n",
    "axs[2].set_title('WD vs GHI')\n",
    "\n",
    "\n",
    "fig, axs = plt.subplots(1, 3, figsize=(12, 5))\n",
    "sns.scatterplot(data=df, x='RH', y='GHI', ax=axs[0])\n",
    "axs[0].set_title('RH vs GHI')\n",
    "\n",
    "sns.scatterplot(data=df, x='RH', y='Tamb', ax=axs[1])\n",
    "axs[1].set_title('RH vs Tamb')\n",
    "\n",
    "sns.scatterplot(data=df, x='GHI', y='Tamb', ax=axs[2])\n",
    "axs[2].set_title('GHI vs Tamb')\n",
    "\n",
    "\n",
    "plt.tight_layout()\n",
    "plt.show()\n",
    "\n",
    "\n",
    "plt.tight_layout()\n",
    "plt.show()\n"
   ]
  },
  {
   "cell_type": "code",
   "execution_count": null,
   "id": "c7350978",
   "metadata": {},
   "outputs": [],
   "source": [
    "# Drop NaNs if needed\n",
    "df_hist = df[['GHI', 'WS']].dropna()\n",
    "\n",
    "# Histogram for GHI\n",
    "plt.figure(figsize=(12, 5))\n",
    "plt.subplot(1, 2, 1)\n",
    "sns.histplot(df_hist['GHI'], bins=30, kde=True, color='orange')\n",
    "plt.title(\"Histogram of GHI\")\n",
    "\n",
    "# Histogram for WS\n",
    "plt.subplot(1, 2, 2)\n",
    "sns.histplot(df_hist['WS'], bins=30, kde=True, color='skyblue')\n",
    "plt.title(\"Histogram of Wind Speed (WS)\")\n",
    "\n",
    "plt.tight_layout()\n",
    "plt.show()"
   ]
  },
  {
   "cell_type": "code",
   "execution_count": null,
   "id": "c4cfc0c1",
   "metadata": {},
   "outputs": [],
   "source": [
    "# Drop rows with missing values in relevant columns\n",
    "df_bubble = df[['GHI', 'Tamb', 'RH']].dropna()\n",
    "\n",
    "# Create the bubble chart\n",
    "plt.figure(figsize=(10, 6))\n",
    "plt.scatter(\n",
    "    df_bubble['GHI'], \n",
    "    df_bubble['Tamb'], \n",
    "    s=df_bubble['RH'],        # Bubble size = Relative Humidity\n",
    "    c=df_bubble['RH'],        # Color (optional, also RH here)\n",
    "    cmap='coolwarm', \n",
    "    alpha=0.6, \n",
    "    edgecolors='w', \n",
    "    linewidth=0.5\n",
    ")\n",
    "\n",
    "plt.title('Bubble Chart: GHI vs. Tamb (Bubble size = RH)')\n",
    "plt.xlabel('GHI (Global Horizontal Irradiance)')\n",
    "plt.ylabel('Tamb (Ambient Temperature)')\n",
    "plt.colorbar(label='Relative Humidity (RH)')\n",
    "plt.grid(True)\n",
    "plt.tight_layout()\n",
    "plt.show()\n"
   ]
  }
 ],
 "metadata": {
  "kernelspec": {
   "display_name": "venv",
   "language": "python",
   "name": "python3"
  },
  "language_info": {
   "name": "python",
   "version": "3.13.2"
  }
 },
 "nbformat": 4,
 "nbformat_minor": 5
}
