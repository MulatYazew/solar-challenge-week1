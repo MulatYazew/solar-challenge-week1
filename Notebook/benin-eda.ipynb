{
 "cells": [
  {
   "cell_type": "code",
   "execution_count": null,
   "id": "e0a53b39",
   "metadata": {},
   "outputs": [],
   "source": [
    "import pandas as pd\n",
    "import numpy as np\n",
    "import matplotlib.pyplot as plt\n",
    "import seaborn as sns\n",
    "from scipy import stats\n",
    "\n",
    "\n",
    "\n",
    "\n",
    "\n",
    "df = pd.read_csv(\"..\\\\data\\\\benin-malanville.csv\")\n",
    "#print(df.head(10))\n",
    "#print(df.describe())\n",
    "\n"
   ]
  },
  {
   "cell_type": "code",
   "execution_count": null,
   "id": "3aa287bb",
   "metadata": {
    "vscode": {
     "languageId": "swift"
    }
   },
   "outputs": [],
   "source": [
    "print(\"Description of the numerical columns:\")\n",
    "print(df.describe())\n",
    "print(\"Description of the categorical columns:\")\n",
    "print(df.describe(include=['object']))\n",
    "print(\"Description of all columns:\")\n",
    "print(df.describe(include='all'))\n",
    "print(\"An overview of the dataset:\")\n",
    "print(df.head())\n",
    "print(\"The number of rows and columns in the dataset:\")\n",
    "print(df.shape)\n",
    "print(\"An overview of the dataset:\")\n",
    "print(df.tail())\n",
    "print(\"An overview of the dataset: 5 random rows\")\n",
    "print(df.sample(5))\n",
    "print(\"An overview of the dataset: the shape of the dataset\")\n",
    "print(df.info())\n",
    "print(\"Check for missing values:\")\n",
    "print(df.isna().sum())\n",
    "print(\"Check for duplicates:\")\n",
    "print(df.duplicated().sum())\n"
   ]
  },
  {
   "cell_type": "code",
   "execution_count": 21,
   "id": "7bcd66d2",
   "metadata": {},
   "outputs": [
    {
     "name": "stdout",
     "output_type": "stream",
     "text": [
      "An overview of the dataset: 5 random rows\n",
      "               Timestamp    GHI    DNI    DHI   ModA   ModB  Tamb    RH   WS  \\\n",
      "308488  2022-03-11 05:29   -5.4   -0.4   -7.7    0.0    0.0  27.7  25.9  2.7   \n",
      "357006  2022-04-13 22:07   -1.9   -0.4   -2.1    0.0    0.0  34.2  40.6  6.3   \n",
      "295830  2022-03-02 10:31  736.6  527.5  326.4  755.5  751.3  33.2  12.9  1.1   \n",
      "310143  2022-03-12 09:04  212.2    1.6  207.7  199.2  189.2  29.2  28.1  1.4   \n",
      "325136  2022-03-22 18:57   -4.2   -1.0   -6.3    6.5    5.4  38.5  12.1  1.7   \n",
      "\n",
      "        WSgust  WSstdev     WD  WDstdev   BP  Cleaning  Precipitation  TModA  \\\n",
      "308488     3.1      0.4   50.8      7.9  990         0            0.0   26.2   \n",
      "357006     7.9      1.0  244.8     11.6  990         0            0.0   34.6   \n",
      "295830     1.9      0.5  176.8     12.4  994         0            0.0   66.0   \n",
      "310143     1.9      0.4   56.1     10.5  993         0            0.0   37.8   \n",
      "325136     1.9      0.3  312.6      2.3  989         0            0.0   36.8   \n",
      "\n",
      "        TModB  Comments  \n",
      "308488   26.3       NaN  \n",
      "357006   34.0       NaN  \n",
      "295830   57.6       NaN  \n",
      "310143   32.9       NaN  \n",
      "325136   36.0       NaN  \n"
     ]
    }
   ],
   "source": [
    "print(\"An overview of the dataset: 5 random rows\")\n",
    "print(df.sample(5))"
   ]
  }
 ],
 "metadata": {
  "kernelspec": {
   "display_name": "venv",
   "language": "python",
   "name": "python3"
  },
  "language_info": {
   "codemirror_mode": {
    "name": "ipython",
    "version": 3
   },
   "file_extension": ".py",
   "mimetype": "text/x-python",
   "name": "python",
   "nbconvert_exporter": "python",
   "pygments_lexer": "ipython3",
   "version": "3.13.2"
  }
 },
 "nbformat": 4,
 "nbformat_minor": 5
}
