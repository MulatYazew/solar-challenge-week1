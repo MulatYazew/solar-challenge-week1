{
 "cells": [
  {
   "cell_type": "markdown",
   "id": "e40f41f1",
   "metadata": {},
   "source": [
    "1. Loading dependencies."
   ]
  },
  {
   "cell_type": "code",
   "execution_count": null,
   "id": "e0a53b39",
   "metadata": {},
   "outputs": [],
   "source": [
    "import pandas as pd\n",
    "import numpy as np\n",
    "import matplotlib.pyplot as plt\n",
    "import seaborn as sns\n",
    "from scipy import stats\n",
    "import os\n",
    "import sys\n",
    "\n",
    "\n",
    "\n",
    "\n",
    "\n",
    "df = pd.read_csv(\"..\\\\data\\\\benin-malanville.csv\")\n",
    "#print(df.head(10))\n",
    "#print(df.describe())\n",
    "\n"
   ]
  },
  {
   "cell_type": "markdown",
   "id": "8d9b81d1",
   "metadata": {},
   "source": [
    "2. Summary Statistics & Missing-Value Report"
   ]
  },
  {
   "cell_type": "code",
   "execution_count": null,
   "id": "3aa287bb",
   "metadata": {},
   "outputs": [],
   "source": [
    "# 1. Summary statistics for all numeric columns\n",
    "numeric_summary = df.describe()\n",
    "\n",
    "# 2. Count of missing values in each column\n",
    "missing_counts = df.isna().sum()\n",
    "\n",
    "# 3. Identifying columns with >5% missing values\n",
    "threshold = 0.05 * len(df)\n",
    "high_na_columns = missing_counts[missing_counts > threshold].index.tolist()\n",
    "\n",
    "# Printing the results\n",
    "print(\"Summary Statistics (Numeric Columns):\\n\", numeric_summary)\n",
    "print(\"\\nMissing Value Counts:\\n\", missing_counts)\n",
    "print(\"\\nColumns with >5% Missing Values:\\n\", high_na_columns)\n"
   ]
  },
  {
   "cell_type": "markdown",
   "id": "2460e4fd",
   "metadata": {},
   "source": [
    "3. Outlier Detection & Basic Cleaning"
   ]
  },
  {
   "cell_type": "code",
   "execution_count": null,
   "id": "f822b69d",
   "metadata": {},
   "outputs": [],
   "source": [
    "# Checking for missing values in key columns\n",
    "key_columns = ['GHI', 'DNI', 'DHI', 'ModA', 'ModB', 'WS', 'WSgust']\n",
    "missing_counts = df[key_columns].isna().sum()\n",
    "print(\"Missing Values:\\n\", missing_counts)\n",
    "\n",
    "\n"
   ]
  },
  {
   "cell_type": "code",
   "execution_count": null,
   "id": "0639fdae",
   "metadata": {},
   "outputs": [],
   "source": [
    "# Compute Z-scores for the selected columns\n",
    "z_scores = df[key_columns].apply(stats.zscore)\n",
    "\n",
    "# Identify rows with |Z| > 3\n",
    "outlier_mask = (np.abs(z_scores) > 3).any(axis=1)\n",
    "outlier_count = outlier_mask.sum()\n",
    "print(f\"\\nTotal Outlier Rows: {outlier_count}\")\n",
    "\n",
    "# Drop outliers\n",
    "df_cleaned = df[~outlier_mask].copy()"
   ]
  },
  {
   "cell_type": "code",
   "execution_count": null,
   "id": "3d9acb75",
   "metadata": {},
   "outputs": [],
   "source": [
    "# Fill missing values with median\n",
    "df_cleaned[key_columns] = df_cleaned[key_columns].fillna(df_cleaned[key_columns].median())\n",
    "\n",
    "# Verify if all missing values are handled\n",
    "print(\"\\nRemaining Missing Values:\\n\", df_cleaned[key_columns].isna().sum())\n"
   ]
  },
  {
   "cell_type": "code",
   "execution_count": null,
   "id": "1d86dd73",
   "metadata": {},
   "outputs": [],
   "source": [
    "output_path = f\"data/benin_clean.csv\"\n",
    "\n",
    "# Ensure 'data/' directory exists\n",
    "os.makedirs('data', exist_ok=True)\n",
    "\n",
    "# Export cleaned data\n",
    "df_cleaned.to_csv(output_path, index=False)\n",
    "print(f\"\\nCleaned data exported to: {output_path}\")\n"
   ]
  }
 ],
 "metadata": {
  "kernelspec": {
   "display_name": "venv",
   "language": "python",
   "name": "python3"
  },
  "language_info": {
   "codemirror_mode": {
    "name": "ipython",
    "version": 3
   },
   "file_extension": ".py",
   "mimetype": "text/x-python",
   "name": "python",
   "nbconvert_exporter": "python",
   "pygments_lexer": "ipython3",
   "version": "3.11.0rc2"
  }
 },
 "nbformat": 4,
 "nbformat_minor": 5
}
