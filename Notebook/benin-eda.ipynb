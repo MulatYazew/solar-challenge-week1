{
 "cells": [
  {
   "cell_type": "markdown",
   "id": "e40f41f1",
   "metadata": {},
   "source": [
    "1. Loading dependencies."
   ]
  },
  {
   "cell_type": "code",
   "execution_count": 9,
   "id": "e0a53b39",
   "metadata": {},
   "outputs": [],
   "source": [
    "import pandas as pd\n",
    "import numpy as np\n",
    "import matplotlib.pyplot as plt\n",
    "import seaborn as sns\n",
    "from scipy import stats\n",
    "import os\n",
    "import sys\n",
    "\n",
    "\n",
    "\n"
   ]
  },
  {
   "cell_type": "markdown",
   "id": "8d9b81d1",
   "metadata": {},
   "source": [
    "2. Summary Statistics & Missing-Value Report"
   ]
  },
  {
   "cell_type": "code",
   "execution_count": 10,
   "id": "3aa287bb",
   "metadata": {},
   "outputs": [
    {
     "name": "stdout",
     "output_type": "stream",
     "text": [
      "Summary Statistics (Numeric Columns):\n",
      "                  GHI            DNI            DHI           ModA  \\\n",
      "count  525600.000000  525600.000000  525600.000000  525600.000000   \n",
      "mean      240.559452     167.187516     115.358961     236.589496   \n",
      "std       331.131327     261.710501     158.691074     326.894859   \n",
      "min       -12.900000      -7.800000     -12.600000       0.000000   \n",
      "25%        -2.000000      -0.500000      -2.100000       0.000000   \n",
      "50%         1.800000      -0.100000       1.600000       4.500000   \n",
      "75%       483.400000     314.200000     216.300000     463.700000   \n",
      "max      1413.000000     952.300000     759.200000    1342.300000   \n",
      "\n",
      "                ModB           Tamb             RH             WS  \\\n",
      "count  525600.000000  525600.000000  525600.000000  525600.000000   \n",
      "mean      228.883576      28.179683      54.487969       2.121113   \n",
      "std       316.536515       5.924297      28.073069       1.603466   \n",
      "min         0.000000      11.000000       2.100000       0.000000   \n",
      "25%         0.000000      24.200000      28.800000       1.000000   \n",
      "50%         4.300000      28.000000      55.100000       1.900000   \n",
      "75%       447.900000      32.300000      80.100000       3.100000   \n",
      "max      1342.300000      43.800000     100.000000      19.500000   \n",
      "\n",
      "              WSgust        WSstdev             WD        WDstdev  \\\n",
      "count  525600.000000  525600.000000  525600.000000  525600.000000   \n",
      "mean        2.809195       0.473390     153.435172       8.582407   \n",
      "std         2.029120       0.273395     102.332842       6.385864   \n",
      "min         0.000000       0.000000       0.000000       0.000000   \n",
      "25%         1.300000       0.400000      59.000000       3.700000   \n",
      "50%         2.600000       0.500000     181.000000       8.600000   \n",
      "75%         4.100000       0.600000     235.100000      12.300000   \n",
      "max        26.600000       4.200000     360.000000      99.400000   \n",
      "\n",
      "                  BP       Cleaning  Precipitation          TModA  \\\n",
      "count  525600.000000  525600.000000  525600.000000  525600.000000   \n",
      "mean      994.197199       0.000923       0.001905      35.246026   \n",
      "std         2.474993       0.030363       0.037115      14.807258   \n",
      "min       985.000000       0.000000       0.000000       9.000000   \n",
      "25%       993.000000       0.000000       0.000000      24.200000   \n",
      "50%       994.000000       0.000000       0.000000      30.000000   \n",
      "75%       996.000000       0.000000       0.000000      46.900000   \n",
      "max      1003.000000       1.000000       2.500000      81.000000   \n",
      "\n",
      "               TModB  Comments  \n",
      "count  525600.000000       0.0  \n",
      "mean       32.471736       NaN  \n",
      "std        12.348743       NaN  \n",
      "min         8.100000       NaN  \n",
      "25%        23.600000       NaN  \n",
      "50%        28.900000       NaN  \n",
      "75%        41.500000       NaN  \n",
      "max        72.500000       NaN  \n",
      "\n",
      "Missing Value Counts:\n",
      " Timestamp             0\n",
      "GHI                   0\n",
      "DNI                   0\n",
      "DHI                   0\n",
      "ModA                  0\n",
      "ModB                  0\n",
      "Tamb                  0\n",
      "RH                    0\n",
      "WS                    0\n",
      "WSgust                0\n",
      "WSstdev               0\n",
      "WD                    0\n",
      "WDstdev               0\n",
      "BP                    0\n",
      "Cleaning              0\n",
      "Precipitation         0\n",
      "TModA                 0\n",
      "TModB                 0\n",
      "Comments         525600\n",
      "dtype: int64\n",
      "\n",
      "Columns with >5% Missing Values:\n",
      " ['Comments']\n"
     ]
    }
   ],
   "source": [
    "df = pd.read_csv(\"..\\\\data\\\\benin-malanville.csv\")\n",
    "# 1. Summary statistics for all numeric columns\n",
    "numeric_summary = df.describe()\n",
    "\n",
    "# 2. Count of missing values in each column\n",
    "missing_counts = df.isna().sum()\n",
    "\n",
    "# 3. Identifying columns with >5% missing values\n",
    "threshold = 0.05 * len(df)\n",
    "high_na_columns = missing_counts[missing_counts > threshold].index.tolist()\n",
    "\n",
    "# Printing the results\n",
    "print(\"Summary Statistics (Numeric Columns):\\n\", numeric_summary)\n",
    "print(\"\\nMissing Value Counts:\\n\", missing_counts)\n",
    "print(\"\\nColumns with >5% Missing Values:\\n\", high_na_columns)\n"
   ]
  },
  {
   "cell_type": "markdown",
   "id": "2460e4fd",
   "metadata": {},
   "source": [
    "3. Outlier Detection & Basic Cleaning"
   ]
  },
  {
   "cell_type": "code",
   "execution_count": 11,
   "id": "f822b69d",
   "metadata": {},
   "outputs": [
    {
     "name": "stdout",
     "output_type": "stream",
     "text": [
      "Missing Values:\n",
      " GHI       0\n",
      "DNI       0\n",
      "DHI       0\n",
      "ModA      0\n",
      "ModB      0\n",
      "WS        0\n",
      "WSgust    0\n",
      "dtype: int64\n"
     ]
    }
   ],
   "source": [
    "# Checking for missing values in key columns\n",
    "key_columns = ['GHI', 'DNI', 'DHI', 'ModA', 'ModB', 'WS', 'WSgust']\n",
    "missing_counts = df[key_columns].isna().sum()\n",
    "print(\"Missing Values:\\n\", missing_counts)\n",
    "\n",
    "\n"
   ]
  },
  {
   "cell_type": "code",
   "execution_count": 12,
   "id": "0639fdae",
   "metadata": {},
   "outputs": [
    {
     "name": "stdout",
     "output_type": "stream",
     "text": [
      "\n",
      "Total Outlier Rows: 7740\n"
     ]
    }
   ],
   "source": [
    "# Compute Z-scores for the selected columns\n",
    "z_scores = df[key_columns].apply(stats.zscore)\n",
    "\n",
    "# Identify rows with |Z| > 3\n",
    "outlier_mask = (np.abs(z_scores) > 3).any(axis=1)\n",
    "outlier_count = outlier_mask.sum()\n",
    "print(f\"\\nTotal Outlier Rows: {outlier_count}\")\n",
    "\n",
    "# Drop outliers\n",
    "df_cleaned = df[~outlier_mask].copy()"
   ]
  },
  {
   "cell_type": "code",
   "execution_count": 13,
   "id": "3d9acb75",
   "metadata": {},
   "outputs": [
    {
     "name": "stdout",
     "output_type": "stream",
     "text": [
      "\n",
      "Remaining Missing Values:\n",
      " GHI       0\n",
      "DNI       0\n",
      "DHI       0\n",
      "ModA      0\n",
      "ModB      0\n",
      "WS        0\n",
      "WSgust    0\n",
      "dtype: int64\n"
     ]
    }
   ],
   "source": [
    "# Fill missing values with median\n",
    "df_cleaned[key_columns] = df_cleaned[key_columns].fillna(df_cleaned[key_columns].median())\n",
    "\n",
    "# Verify if all missing values are handled\n",
    "print(\"\\nRemaining Missing Values:\\n\", df_cleaned[key_columns].isna().sum())\n"
   ]
  },
  {
   "cell_type": "code",
   "execution_count": 16,
   "id": "1d86dd73",
   "metadata": {},
   "outputs": [
    {
     "name": "stdout",
     "output_type": "stream",
     "text": [
      "\n",
      "Cleaned data exported to: ..\\data\\benin_clean.csv\n"
     ]
    }
   ],
   "source": [
    "output_path = f\"..\\\\data\\\\benin_clean.csv\"\n",
    "\n",
    "# Ensure 'data/' directory exists\n",
    "os.makedirs('data', exist_ok=True)\n",
    "\n",
    "# Export cleaned data\n",
    "df_cleaned.to_csv(output_path, index=False)\n",
    "print(f\"\\nCleaned data exported to: {output_path}\")\n"
   ]
  }
 ],
 "metadata": {
  "kernelspec": {
   "display_name": "venv",
   "language": "python",
   "name": "python3"
  },
  "language_info": {
   "codemirror_mode": {
    "name": "ipython",
    "version": 3
   },
   "file_extension": ".py",
   "mimetype": "text/x-python",
   "name": "python",
   "nbconvert_exporter": "python",
   "pygments_lexer": "ipython3",
   "version": "3.11.0rc2"
  }
 },
 "nbformat": 4,
 "nbformat_minor": 5
}
