{
 "cells": [
  {
   "cell_type": "code",
   "execution_count": null,
   "id": "e0a53b39",
   "metadata": {},
   "outputs": [],
   "source": [
    "import pandas as pd\n",
    "import numpy as np\n",
    "import matplotlib.pyplot as plt\n",
    "import seaborn as sns\n",
    "from scipy import stats\n",
    "\n",
    "\n",
    "\n",
    "\n",
    "\n",
    "df = pd.read_csv(\"..\\\\data\\\\benin-malanville.csv\")\n",
    "#print(df.head(10))\n",
    "#print(df.describe())\n",
    "\n"
   ]
  },
  {
   "cell_type": "code",
   "execution_count": null,
   "id": "3aa287bb",
   "metadata": {
    "vscode": {
     "languageId": "swift"
    }
   },
   "outputs": [],
   "source": [
    "print(\"Description of the numerical columns:\")\n",
    "print(df.describe())\n",
    "print(\"Description of the categorical columns:\")\n",
    "print(df.describe(include=['object']))\n",
    "print(\"Description of all columns:\")\n",
    "print(df.describe(include='all'))\n",
    "print(\"An overview of the dataset:\")\n",
    "print(df.head())\n",
    "print(\"The number of rows and columns in the dataset:\")\n",
    "print(df.shape)\n",
    "print(\"An overview of the dataset:\")\n",
    "print(df.tail())\n",
    "print(\"An overview of the dataset: 5 random rows\")\n",
    "print(df.sample(5))\n",
    "print(\"An overview of the dataset: the shape of the dataset\")\n",
    "print(df.info())\n",
    "print(\"Check for missing values:\")\n",
    "print(df.isna().sum())\n",
    "print(\"Check for duplicates:\")\n",
    "print(df.duplicated().sum())\n"
   ]
  }
 ],
 "metadata": {
  "kernelspec": {
   "display_name": "venv",
   "language": "python",
   "name": "python3"
  },
  "language_info": {
   "codemirror_mode": {
    "name": "ipython",
    "version": 3
   },
   "file_extension": ".py",
   "mimetype": "text/x-python",
   "name": "python",
   "nbconvert_exporter": "python",
   "pygments_lexer": "ipython3",
   "version": "3.13.2"
  }
 },
 "nbformat": 4,
 "nbformat_minor": 5
}
